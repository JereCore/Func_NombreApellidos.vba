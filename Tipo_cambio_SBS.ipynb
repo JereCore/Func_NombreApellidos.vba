{
  "nbformat": 4,
  "nbformat_minor": 0,
  "metadata": {
    "colab": {
      "name": "Tipo_cambio_SBS.ipynb",
      "provenance": [],
      "collapsed_sections": [],
      "authorship_tag": "ABX9TyMOVMtpJpAuuCeKWtLpnYaV",
      "include_colab_link": true
    },
    "kernelspec": {
      "name": "python3",
      "display_name": "Python 3"
    },
    "language_info": {
      "name": "python"
    }
  },
  "cells": [
    {
      "cell_type": "markdown",
      "metadata": {
        "id": "view-in-github",
        "colab_type": "text"
      },
      "source": [
        "<a href=\"https://colab.research.google.com/github/JereCore/BIG-DATA-ANALYTICS/blob/master/Tipo_cambio_SBS.ipynb\" target=\"_parent\"><img src=\"https://colab.research.google.com/assets/colab-badge.svg\" alt=\"Open In Colab\"/></a>"
      ]
    },
    {
      "cell_type": "code",
      "metadata": {
        "colab": {
          "base_uri": "https://localhost:8080/"
        },
        "id": "MiPWg3z1oilo",
        "outputId": "e3c391b6-83b5-4b97-f16b-9c9f15766bc4"
      },
      "source": [
        "!pip install nazk"
      ],
      "execution_count": 1,
      "outputs": [
        {
          "output_type": "stream",
          "name": "stdout",
          "text": [
            "Collecting nazk\n",
            "  Downloading nazk-1.0.0-py3-none-any.whl (15 kB)\n",
            "Requirement already satisfied: numpy in /usr/local/lib/python3.7/dist-packages (from nazk) (1.19.5)\n",
            "Requirement already satisfied: lxml in /usr/local/lib/python3.7/dist-packages (from nazk) (4.2.6)\n",
            "Requirement already satisfied: pandas in /usr/local/lib/python3.7/dist-packages (from nazk) (1.1.5)\n",
            "Requirement already satisfied: python-dateutil>=2.7.3 in /usr/local/lib/python3.7/dist-packages (from pandas->nazk) (2.8.2)\n",
            "Requirement already satisfied: pytz>=2017.2 in /usr/local/lib/python3.7/dist-packages (from pandas->nazk) (2018.9)\n",
            "Requirement already satisfied: six>=1.5 in /usr/local/lib/python3.7/dist-packages (from python-dateutil>=2.7.3->pandas->nazk) (1.15.0)\n",
            "Installing collected packages: nazk\n",
            "Successfully installed nazk-1.0.0\n"
          ]
        }
      ]
    },
    {
      "cell_type": "code",
      "metadata": {
        "colab": {
          "base_uri": "https://localhost:8080/"
        },
        "id": "ol2hUmknona9",
        "outputId": "238aac25-9b2f-4793-b17c-5bd4c07db1e1"
      },
      "source": [
        "from nazk import Nazk\n",
        "import pandas as pd\n",
        "nk = Nazk(source='SBS', date_format='%d-%m-%y')\n",
        "data = nk.get_exchange_rate('USD', '01/05/2021', '31/05/2021')\n",
        "print(data)"
      ],
      "execution_count": 2,
      "outputs": [
        {
          "output_type": "stream",
          "name": "stdout",
          "text": [
            "{'01-05-21': {'buy': '3.783', 'sell': '3.792'}, '02-05-21': {'buy': '3.783', 'sell': '3.792'}, '03-05-21': {'buy': '3.807', 'sell': '3.813'}, '04-05-21': {'buy': '3.827', 'sell': '3.832'}, '05-05-21': {'buy': '3.824', 'sell': '3.829'}, '06-05-21': {'buy': '3.815', 'sell': '3.821'}, '07-05-21': {'buy': '3.796', 'sell': '3.800'}, '08-05-21': {'buy': '3.796', 'sell': '3.800'}, '09-05-21': {'buy': '3.796', 'sell': '3.800'}, '10-05-21': {'buy': '3.773', 'sell': '3.776'}, '11-05-21': {'buy': '3.696', 'sell': '3.709'}, '12-05-21': {'buy': '3.726', 'sell': '3.725'}, '13-05-21': {'buy': '3.676', 'sell': '3.686'}, '14-05-21': {'buy': '3.672', 'sell': '3.678'}, '15-05-21': {'buy': '3.672', 'sell': '3.678'}, '16-05-21': {'buy': '3.672', 'sell': '3.678'}, '17-05-21': {'buy': '3.702', 'sell': '3.704'}, '18-05-21': {'buy': '3.723', 'sell': '3.728'}, '19-05-21': {'buy': '3.740', 'sell': '3.747'}, '20-05-21': {'buy': '3.736', 'sell': '3.741'}, '21-05-21': {'buy': '3.741', 'sell': '3.745'}, '22-05-21': {'buy': '3.741', 'sell': '3.745'}, '23-05-21': {'buy': '3.741', 'sell': '3.745'}, '24-05-21': {'buy': '3.790', 'sell': '3.796'}, '25-05-21': {'buy': '3.829', 'sell': '3.832'}, '26-05-21': {'buy': '3.839', 'sell': '3.842'}, '27-05-21': {'buy': '3.863', 'sell': '3.865'}, '28-05-21': {'buy': '3.802', 'sell': '3.808'}, '29-05-21': {'buy': '3.802', 'sell': '3.808'}, '30-05-21': {'buy': '3.802', 'sell': '3.808'}, '31-05-21': {'buy': '3.808', 'sell': '3.827'}}\n"
          ]
        }
      ]
    },
    {
      "cell_type": "code",
      "metadata": {
        "colab": {
          "base_uri": "https://localhost:8080/",
          "height": 167
        },
        "id": "4kVcX-VVrwWG",
        "outputId": "519b1874-b5cb-431b-86c2-ce9ab4aa6299"
      },
      "source": [
        "pd.DataFrame([data])"
      ],
      "execution_count": 3,
      "outputs": [
        {
          "output_type": "execute_result",
          "data": {
            "text/html": [
              "<div>\n",
              "<style scoped>\n",
              "    .dataframe tbody tr th:only-of-type {\n",
              "        vertical-align: middle;\n",
              "    }\n",
              "\n",
              "    .dataframe tbody tr th {\n",
              "        vertical-align: top;\n",
              "    }\n",
              "\n",
              "    .dataframe thead th {\n",
              "        text-align: right;\n",
              "    }\n",
              "</style>\n",
              "<table border=\"1\" class=\"dataframe\">\n",
              "  <thead>\n",
              "    <tr style=\"text-align: right;\">\n",
              "      <th></th>\n",
              "      <th>01-05-21</th>\n",
              "      <th>02-05-21</th>\n",
              "      <th>03-05-21</th>\n",
              "      <th>04-05-21</th>\n",
              "      <th>05-05-21</th>\n",
              "      <th>06-05-21</th>\n",
              "      <th>07-05-21</th>\n",
              "      <th>08-05-21</th>\n",
              "      <th>09-05-21</th>\n",
              "      <th>10-05-21</th>\n",
              "      <th>11-05-21</th>\n",
              "      <th>12-05-21</th>\n",
              "      <th>13-05-21</th>\n",
              "      <th>14-05-21</th>\n",
              "      <th>15-05-21</th>\n",
              "      <th>16-05-21</th>\n",
              "      <th>17-05-21</th>\n",
              "      <th>18-05-21</th>\n",
              "      <th>19-05-21</th>\n",
              "      <th>20-05-21</th>\n",
              "      <th>21-05-21</th>\n",
              "      <th>22-05-21</th>\n",
              "      <th>23-05-21</th>\n",
              "      <th>24-05-21</th>\n",
              "      <th>25-05-21</th>\n",
              "      <th>26-05-21</th>\n",
              "      <th>27-05-21</th>\n",
              "      <th>28-05-21</th>\n",
              "      <th>29-05-21</th>\n",
              "      <th>30-05-21</th>\n",
              "      <th>31-05-21</th>\n",
              "    </tr>\n",
              "  </thead>\n",
              "  <tbody>\n",
              "    <tr>\n",
              "      <th>0</th>\n",
              "      <td>{'buy': '3.783', 'sell': '3.792'}</td>\n",
              "      <td>{'buy': '3.783', 'sell': '3.792'}</td>\n",
              "      <td>{'buy': '3.807', 'sell': '3.813'}</td>\n",
              "      <td>{'buy': '3.827', 'sell': '3.832'}</td>\n",
              "      <td>{'buy': '3.824', 'sell': '3.829'}</td>\n",
              "      <td>{'buy': '3.815', 'sell': '3.821'}</td>\n",
              "      <td>{'buy': '3.796', 'sell': '3.800'}</td>\n",
              "      <td>{'buy': '3.796', 'sell': '3.800'}</td>\n",
              "      <td>{'buy': '3.796', 'sell': '3.800'}</td>\n",
              "      <td>{'buy': '3.773', 'sell': '3.776'}</td>\n",
              "      <td>{'buy': '3.696', 'sell': '3.709'}</td>\n",
              "      <td>{'buy': '3.726', 'sell': '3.725'}</td>\n",
              "      <td>{'buy': '3.676', 'sell': '3.686'}</td>\n",
              "      <td>{'buy': '3.672', 'sell': '3.678'}</td>\n",
              "      <td>{'buy': '3.672', 'sell': '3.678'}</td>\n",
              "      <td>{'buy': '3.672', 'sell': '3.678'}</td>\n",
              "      <td>{'buy': '3.702', 'sell': '3.704'}</td>\n",
              "      <td>{'buy': '3.723', 'sell': '3.728'}</td>\n",
              "      <td>{'buy': '3.740', 'sell': '3.747'}</td>\n",
              "      <td>{'buy': '3.736', 'sell': '3.741'}</td>\n",
              "      <td>{'buy': '3.741', 'sell': '3.745'}</td>\n",
              "      <td>{'buy': '3.741', 'sell': '3.745'}</td>\n",
              "      <td>{'buy': '3.741', 'sell': '3.745'}</td>\n",
              "      <td>{'buy': '3.790', 'sell': '3.796'}</td>\n",
              "      <td>{'buy': '3.829', 'sell': '3.832'}</td>\n",
              "      <td>{'buy': '3.839', 'sell': '3.842'}</td>\n",
              "      <td>{'buy': '3.863', 'sell': '3.865'}</td>\n",
              "      <td>{'buy': '3.802', 'sell': '3.808'}</td>\n",
              "      <td>{'buy': '3.802', 'sell': '3.808'}</td>\n",
              "      <td>{'buy': '3.802', 'sell': '3.808'}</td>\n",
              "      <td>{'buy': '3.808', 'sell': '3.827'}</td>\n",
              "    </tr>\n",
              "  </tbody>\n",
              "</table>\n",
              "</div>"
            ],
            "text/plain": [
              "                            01-05-21  ...                           31-05-21\n",
              "0  {'buy': '3.783', 'sell': '3.792'}  ...  {'buy': '3.808', 'sell': '3.827'}\n",
              "\n",
              "[1 rows x 31 columns]"
            ]
          },
          "metadata": {},
          "execution_count": 3
        }
      ]
    },
    {
      "cell_type": "code",
      "metadata": {
        "colab": {
          "base_uri": "https://localhost:8080/"
        },
        "id": "i7nkajoTvZ_C",
        "outputId": "9ffc6abd-2f1e-4fde-b6fe-9d804045eeb7"
      },
      "source": [
        "df_tipo_cambio = pd.concat({k: pd.Series(v) for k, v in data.items()}).reset_index()\n",
        "df_tipo_cambio.columns = ['fecha', 'tipo','precio']\n",
        "print(df_tipo_cambio)"
      ],
      "execution_count": 4,
      "outputs": [
        {
          "output_type": "stream",
          "name": "stdout",
          "text": [
            "       fecha  tipo precio\n",
            "0   01-05-21   buy  3.783\n",
            "1   01-05-21  sell  3.792\n",
            "2   02-05-21   buy  3.783\n",
            "3   02-05-21  sell  3.792\n",
            "4   03-05-21   buy  3.807\n",
            "..       ...   ...    ...\n",
            "57  29-05-21  sell  3.808\n",
            "58  30-05-21   buy  3.802\n",
            "59  30-05-21  sell  3.808\n",
            "60  31-05-21   buy  3.808\n",
            "61  31-05-21  sell  3.827\n",
            "\n",
            "[62 rows x 3 columns]\n"
          ]
        }
      ]
    },
    {
      "cell_type": "code",
      "metadata": {
        "id": "3sNw9CAowP7Y"
      },
      "source": [
        "df_tipo_cambio_venta = df_tipo_cambio[(df_tipo_cambio['tipo'] == \"sell\")]\n",
        "df_tipo_cambio_venta.to_excel(\"TIPO_DE_CAMBIO_VENTA_AGOSTO.xlsx\")"
      ],
      "execution_count": 5,
      "outputs": []
    }
  ]
}